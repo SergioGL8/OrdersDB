{
 "metadata": {
  "language_info": {
   "codemirror_mode": {
    "name": "ipython",
    "version": 3
   },
   "file_extension": ".py",
   "mimetype": "text/x-python",
   "name": "python",
   "nbconvert_exporter": "python",
   "pygments_lexer": "ipython3",
   "version": "3.7.6-final"
  },
  "orig_nbformat": 2,
  "kernelspec": {
   "name": "python3",
   "display_name": "Python 3",
   "language": "python"
  }
 },
 "nbformat": 4,
 "nbformat_minor": 2,
 "cells": [
  {
   "cell_type": "code",
   "execution_count": 1,
   "metadata": {},
   "outputs": [],
   "source": [
    "import pandas as pd\n",
    "import numpy as np\n",
    "from datetime import datetime, timedelta\n",
    "\n",
    "# File to Load (Remember to Change These)\n",
    "path1 = \"data/Customers.csv\"\n",
    "path2 = \"data/Managers.csv\"\n",
    "path3 = \"data/Orders.csv\"\n",
    "path4 = \"data/Returns.csv\"\n",
    "\n",
    "# Read Files and store into Pandas data frame\n",
    "customers_df = pd.read_csv(path1, encoding = \"latin-1\")\n",
    "managers_df = pd.read_csv(path2, encoding = \"latin-1\")\n",
    "orders_df = pd.read_csv(path3, encoding = \"latin-1\")\n",
    "returns_df = pd.read_csv(path4, encoding = \"latin-1\")\n"
   ]
  },
  {
   "source": [
    "# For the orders.csv"
   ],
   "cell_type": "markdown",
   "metadata": {}
  },
  {
   "cell_type": "code",
   "execution_count": 2,
   "metadata": {},
   "outputs": [
    {
     "output_type": "execute_result",
     "data": {
      "text/plain": [
       "   ROW_ID  ORDER_ID  ORDER_DATE       PRIORITY  QUANTITY      SALES  DISCOUNT  \\\n",
       "0       1         3  10/13/1982            Low         6   261.5400      0.04   \n",
       "1       2         6   2/20/2012  Not Specified         2     6.9300      0.01   \n",
       "2       5        32   7/15/2011           High        23   160.2335      0.04   \n",
       "3       4        32   7/15/2011           High        24  1761.4000      0.09   \n",
       "4       3        32   7/15/2011           High        26  2808.0800      0.07   \n",
       "\n",
       "             MODE   PROFIT  UNIT_PRICE  SHIPPING_COSTS  CUSTOMER_ID PROVINCE  \\\n",
       "0     Regular Air  -213.25       38.94           35.00            1  Nunavut   \n",
       "1     Regular Air    -4.64        2.08            2.56          782  Alberta   \n",
       "2     Regular Air   -85.13        7.99            5.03          653  Alberta   \n",
       "3  Delivery Truck -1748.56       70.89           89.30          653  Alberta   \n",
       "4     Regular Air  1054.82      107.53            5.81          653  Alberta   \n",
       "\n",
       "    REGION         SEGMENT         CATEGORY                   SUB_CATEGORY  \\\n",
       "0  Nunavut  Small Business  Office Supplies         Storage & Organization   \n",
       "1     West       Corporate  Office Supplies  Scissors, Rulers and Trimmers   \n",
       "2     West       Corporate       Technology   Telephones and Communication   \n",
       "3     West       Corporate        Furniture                         Tables   \n",
       "4     West       Corporate        Furniture             Office Furnishings   \n",
       "\n",
       "                                        PRODUCT_NAME PRODUCT_CONTAINER  \\\n",
       "0   Eldon Base for stackable storage shelf, platinum         Large Box   \n",
       "1  Kleencut® Forged Office Shears by Acme United ...        Small Pack   \n",
       "2                       Bell Sonecor JB700 Caller ID        Medium Box   \n",
       "3                               KI Conference Tables         Jumbo Box   \n",
       "4  Tenex Contemporary Contur Chairmats for Low an...        Medium Box   \n",
       "\n",
       "    SHIP_DATE  \n",
       "0  10/20/2010  \n",
       "1   2/21/2012  \n",
       "2   7/17/2011  \n",
       "3   7/16/2011  \n",
       "4   7/17/2011  "
      ],
      "text/html": "<div>\n<style scoped>\n    .dataframe tbody tr th:only-of-type {\n        vertical-align: middle;\n    }\n\n    .dataframe tbody tr th {\n        vertical-align: top;\n    }\n\n    .dataframe thead th {\n        text-align: right;\n    }\n</style>\n<table border=\"1\" class=\"dataframe\">\n  <thead>\n    <tr style=\"text-align: right;\">\n      <th></th>\n      <th>ROW_ID</th>\n      <th>ORDER_ID</th>\n      <th>ORDER_DATE</th>\n      <th>PRIORITY</th>\n      <th>QUANTITY</th>\n      <th>SALES</th>\n      <th>DISCOUNT</th>\n      <th>MODE</th>\n      <th>PROFIT</th>\n      <th>UNIT_PRICE</th>\n      <th>SHIPPING_COSTS</th>\n      <th>CUSTOMER_ID</th>\n      <th>PROVINCE</th>\n      <th>REGION</th>\n      <th>SEGMENT</th>\n      <th>CATEGORY</th>\n      <th>SUB_CATEGORY</th>\n      <th>PRODUCT_NAME</th>\n      <th>PRODUCT_CONTAINER</th>\n      <th>SHIP_DATE</th>\n    </tr>\n  </thead>\n  <tbody>\n    <tr>\n      <th>0</th>\n      <td>1</td>\n      <td>3</td>\n      <td>10/13/1982</td>\n      <td>Low</td>\n      <td>6</td>\n      <td>261.5400</td>\n      <td>0.04</td>\n      <td>Regular Air</td>\n      <td>-213.25</td>\n      <td>38.94</td>\n      <td>35.00</td>\n      <td>1</td>\n      <td>Nunavut</td>\n      <td>Nunavut</td>\n      <td>Small Business</td>\n      <td>Office Supplies</td>\n      <td>Storage &amp; Organization</td>\n      <td>Eldon Base for stackable storage shelf, platinum</td>\n      <td>Large Box</td>\n      <td>10/20/2010</td>\n    </tr>\n    <tr>\n      <th>1</th>\n      <td>2</td>\n      <td>6</td>\n      <td>2/20/2012</td>\n      <td>Not Specified</td>\n      <td>2</td>\n      <td>6.9300</td>\n      <td>0.01</td>\n      <td>Regular Air</td>\n      <td>-4.64</td>\n      <td>2.08</td>\n      <td>2.56</td>\n      <td>782</td>\n      <td>Alberta</td>\n      <td>West</td>\n      <td>Corporate</td>\n      <td>Office Supplies</td>\n      <td>Scissors, Rulers and Trimmers</td>\n      <td>Kleencut® Forged Office Shears by Acme United ...</td>\n      <td>Small Pack</td>\n      <td>2/21/2012</td>\n    </tr>\n    <tr>\n      <th>2</th>\n      <td>5</td>\n      <td>32</td>\n      <td>7/15/2011</td>\n      <td>High</td>\n      <td>23</td>\n      <td>160.2335</td>\n      <td>0.04</td>\n      <td>Regular Air</td>\n      <td>-85.13</td>\n      <td>7.99</td>\n      <td>5.03</td>\n      <td>653</td>\n      <td>Alberta</td>\n      <td>West</td>\n      <td>Corporate</td>\n      <td>Technology</td>\n      <td>Telephones and Communication</td>\n      <td>Bell Sonecor JB700 Caller ID</td>\n      <td>Medium Box</td>\n      <td>7/17/2011</td>\n    </tr>\n    <tr>\n      <th>3</th>\n      <td>4</td>\n      <td>32</td>\n      <td>7/15/2011</td>\n      <td>High</td>\n      <td>24</td>\n      <td>1761.4000</td>\n      <td>0.09</td>\n      <td>Delivery Truck</td>\n      <td>-1748.56</td>\n      <td>70.89</td>\n      <td>89.30</td>\n      <td>653</td>\n      <td>Alberta</td>\n      <td>West</td>\n      <td>Corporate</td>\n      <td>Furniture</td>\n      <td>Tables</td>\n      <td>KI Conference Tables</td>\n      <td>Jumbo Box</td>\n      <td>7/16/2011</td>\n    </tr>\n    <tr>\n      <th>4</th>\n      <td>3</td>\n      <td>32</td>\n      <td>7/15/2011</td>\n      <td>High</td>\n      <td>26</td>\n      <td>2808.0800</td>\n      <td>0.07</td>\n      <td>Regular Air</td>\n      <td>1054.82</td>\n      <td>107.53</td>\n      <td>5.81</td>\n      <td>653</td>\n      <td>Alberta</td>\n      <td>West</td>\n      <td>Corporate</td>\n      <td>Furniture</td>\n      <td>Office Furnishings</td>\n      <td>Tenex Contemporary Contur Chairmats for Low an...</td>\n      <td>Medium Box</td>\n      <td>7/17/2011</td>\n    </tr>\n  </tbody>\n</table>\n</div>"
     },
     "metadata": {},
     "execution_count": 2
    }
   ],
   "source": [
    "orders_df.head()"
   ]
  },
  {
   "cell_type": "code",
   "execution_count": 3,
   "metadata": {},
   "outputs": [
    {
     "output_type": "stream",
     "name": "stdout",
     "text": [
      "ROW_ID\nORDER_ID\nORDER_DATE\nPRIORITY\nQUANTITY\nSALES\nDISCOUNT\nMODE\nPROFIT\nUNIT_PRICE\nSHIPPING_COSTS\nCUSTOMER_ID\nPROVINCE\nREGION\nSEGMENT\nCATEGORY\nSUB_CATEGORY\nPRODUCT_NAME\nPRODUCT_CONTAINER\nSHIP_DATE\n"
     ]
    }
   ],
   "source": [
    "# Check headers\n",
    "for col in orders_df.columns: \n",
    "    print(col)"
   ]
  },
  {
   "cell_type": "code",
   "execution_count": 4,
   "metadata": {},
   "outputs": [
    {
     "output_type": "execute_result",
     "data": {
      "text/plain": [
       "ROW_ID               8399\n",
       "ORDER_ID             8399\n",
       "ORDER_DATE           8399\n",
       "PRIORITY             8399\n",
       "QUANTITY             8399\n",
       "SALES                8399\n",
       "DISCOUNT             8399\n",
       "MODE                 8399\n",
       "PROFIT               8399\n",
       "UNIT_PRICE           8399\n",
       "SHIPPING_COSTS       8399\n",
       "CUSTOMER_ID          8399\n",
       "PROVINCE             8399\n",
       "REGION               8399\n",
       "SEGMENT              8399\n",
       "CATEGORY             8399\n",
       "SUB_CATEGORY         8399\n",
       "PRODUCT_NAME         8399\n",
       "PRODUCT_CONTAINER    8399\n",
       "SHIP_DATE            8399\n",
       "dtype: int64"
      ]
     },
     "metadata": {},
     "execution_count": 4
    }
   ],
   "source": [
    "# Count values to know if there are any null or nan value in a new df\n",
    "data_df = orders_df[['ROW_ID', 'ORDER_ID', 'ORDER_DATE', 'PRIORITY', 'QUANTITY', 'SALES', 'DISCOUNT', 'MODE', 'PROFIT', 'UNIT_PRICE', 'SHIPPING_COSTS', 'CUSTOMER_ID', 'PROVINCE', 'REGION', 'SEGMENT', 'CATEGORY', 'SUB_CATEGORY', 'PRODUCT_NAME', 'PRODUCT_CONTAINER', 'SHIP_DATE']]\n",
    "\n",
    "count_data = data_df.count()\n",
    "\n",
    "count_data"
   ]
  },
  {
   "cell_type": "code",
   "execution_count": 5,
   "metadata": {},
   "outputs": [
    {
     "output_type": "execute_result",
     "data": {
      "text/plain": [
       "array(['Low', 'Not Specified', 'High', 'Critical', 'Medium', 'High High',\n",
       "       'C', 'L', 'N S', 'M', 'H'], dtype=object)"
      ]
     },
     "metadata": {},
     "execution_count": 5
    }
   ],
   "source": [
    "# Know the values for priority column\n",
    "data_df['PRIORITY'].unique()"
   ]
  },
  {
   "cell_type": "code",
   "execution_count": 6,
   "metadata": {},
   "outputs": [],
   "source": [
    "# Rename the values and group them\n",
    "data_df['PRIORITY'] = data_df['PRIORITY'].replace({'C': 'Critical', 'L': 'Low', 'N S': 'Not Specified', 'H': 'High', 'High High': 'High', 'M': 'Medium'})"
   ]
  },
  {
   "cell_type": "code",
   "execution_count": 7,
   "metadata": {},
   "outputs": [
    {
     "output_type": "execute_result",
     "data": {
      "text/plain": [
       "array(['Low', 'Not Specified', 'High', 'Critical', 'Medium'], dtype=object)"
      ]
     },
     "metadata": {},
     "execution_count": 7
    }
   ],
   "source": [
    "data_df['PRIORITY'].unique()"
   ]
  },
  {
   "cell_type": "code",
   "execution_count": 8,
   "metadata": {},
   "outputs": [
    {
     "output_type": "execute_result",
     "data": {
      "text/plain": [
       "array(['Nunavut', 'West', 'Prarie', 'Ontario', 'Quebec', 'Yukon',\n",
       "       'Atlantic', 'Northwest Territories', 'East'], dtype=object)"
      ]
     },
     "metadata": {},
     "execution_count": 8
    }
   ],
   "source": [
    "# Know the values for region column\n",
    "data_df['REGION'].unique()"
   ]
  },
  {
   "cell_type": "code",
   "execution_count": 9,
   "metadata": {},
   "outputs": [],
   "source": [
    "# Rename the values and group them\n",
    "data_df['REGION'] = data_df['REGION'].replace({'East': 'The West Coast', 'West': 'The West Coast', 'Prarie': 'The Prarie Provinces', 'Ontario': 'Central Canada', 'Quebec': 'Central Canada', 'Nunavut': 'The Northern Territories', 'Yukon': 'The Northern Territories', 'Northwest Territories': 'The Northern Territories', 'Atlantic': 'The Atlantic Provinces'})"
   ]
  },
  {
   "cell_type": "code",
   "execution_count": 10,
   "metadata": {},
   "outputs": [
    {
     "output_type": "execute_result",
     "data": {
      "text/plain": [
       "array(['The Northern Territories', 'The West Coast',\n",
       "       'The Prarie Provinces', 'Central Canada', 'The Atlantic Provinces'],\n",
       "      dtype=object)"
      ]
     },
     "metadata": {},
     "execution_count": 10
    }
   ],
   "source": [
    "data_df['REGION'].unique()"
   ]
  },
  {
   "cell_type": "code",
   "execution_count": 11,
   "metadata": {},
   "outputs": [
    {
     "output_type": "execute_result",
     "data": {
      "text/plain": [
       "array(['Large Box', 'Small Pack', 'Medium Box', 'Jumbo Box', 'Small Box',\n",
       "       'Wrap Bag', 'Jumbo Drum', 'Small'], dtype=object)"
      ]
     },
     "metadata": {},
     "execution_count": 11
    }
   ],
   "source": [
    "# Know the values for product container column\n",
    "data_df['PRODUCT_CONTAINER'].unique()"
   ]
  },
  {
   "cell_type": "code",
   "execution_count": 12,
   "metadata": {},
   "outputs": [
    {
     "output_type": "execute_result",
     "data": {
      "text/plain": [
       "array(['Large Box', 'Small Box', 'Medium Box', 'Jumbo Box', 'Wrap Bag',\n",
       "       'Jumbo Drum'], dtype=object)"
      ]
     },
     "metadata": {},
     "execution_count": 12
    }
   ],
   "source": [
    "# Rename the values and group them\n",
    "data_df['PRODUCT_CONTAINER'] = data_df['PRODUCT_CONTAINER'].replace({'Small Pack': 'Small Box', 'Small': 'Small Box'})\n",
    "data_df['PRODUCT_CONTAINER'].unique()"
   ]
  },
  {
   "cell_type": "code",
   "execution_count": 13,
   "metadata": {},
   "outputs": [
    {
     "output_type": "execute_result",
     "data": {
      "text/plain": [
       "ROW_ID                 int64\n",
       "ORDER_ID               int64\n",
       "ORDER_DATE            object\n",
       "PRIORITY              object\n",
       "QUANTITY               int64\n",
       "SALES                float64\n",
       "DISCOUNT             float64\n",
       "MODE                  object\n",
       "PROFIT               float64\n",
       "UNIT_PRICE           float64\n",
       "SHIPPING_COSTS       float64\n",
       "CUSTOMER_ID            int64\n",
       "PROVINCE              object\n",
       "REGION                object\n",
       "SEGMENT               object\n",
       "CATEGORY              object\n",
       "SUB_CATEGORY          object\n",
       "PRODUCT_NAME          object\n",
       "PRODUCT_CONTAINER     object\n",
       "SHIP_DATE             object\n",
       "dtype: object"
      ]
     },
     "metadata": {},
     "execution_count": 13
    }
   ],
   "source": [
    "data_df.dtypes"
   ]
  },
  {
   "cell_type": "code",
   "execution_count": 14,
   "metadata": {},
   "outputs": [
    {
     "output_type": "execute_result",
     "data": {
      "text/plain": [
       "   ROW_ID  ORDER_ID  ORDER_DATE       PRIORITY  QUANTITY      SALES  DISCOUNT  \\\n",
       "0       1         3  10/13/1982            Low         6   261.5400      0.04   \n",
       "1       2         6   2/20/2012  Not Specified         2     6.9300      0.01   \n",
       "2       5        32   7/15/2011           High        23   160.2335      0.04   \n",
       "3       4        32   7/15/2011           High        24  1761.4000      0.09   \n",
       "4       3        32   7/15/2011           High        26  2808.0800      0.07   \n",
       "\n",
       "             MODE   PROFIT  UNIT_PRICE  SHIPPING_COSTS  CUSTOMER_ID PROVINCE  \\\n",
       "0     Regular Air  -213.25       38.94           35.00            1  Nunavut   \n",
       "1     Regular Air    -4.64        2.08            2.56          782  Alberta   \n",
       "2     Regular Air   -85.13        7.99            5.03          653  Alberta   \n",
       "3  Delivery Truck -1748.56       70.89           89.30          653  Alberta   \n",
       "4     Regular Air  1054.82      107.53            5.81          653  Alberta   \n",
       "\n",
       "                     REGION         SEGMENT         CATEGORY  \\\n",
       "0  The Northern Territories  Small Business  Office Supplies   \n",
       "1            The West Coast       Corporate  Office Supplies   \n",
       "2            The West Coast       Corporate       Technology   \n",
       "3            The West Coast       Corporate        Furniture   \n",
       "4            The West Coast       Corporate        Furniture   \n",
       "\n",
       "                    SUB_CATEGORY  \\\n",
       "0         Storage & Organization   \n",
       "1  Scissors, Rulers and Trimmers   \n",
       "2   Telephones and Communication   \n",
       "3                         Tables   \n",
       "4             Office Furnishings   \n",
       "\n",
       "                                        PRODUCT_NAME PRODUCT_CONTAINER  \\\n",
       "0   Eldon Base for stackable storage shelf, platinum         Large Box   \n",
       "1  Kleencut® Forged Office Shears by Acme United ...         Small Box   \n",
       "2                       Bell Sonecor JB700 Caller ID        Medium Box   \n",
       "3                               KI Conference Tables         Jumbo Box   \n",
       "4  Tenex Contemporary Contur Chairmats for Low an...        Medium Box   \n",
       "\n",
       "    SHIP_DATE  \n",
       "0  10/20/2010  \n",
       "1   2/21/2012  \n",
       "2   7/17/2011  \n",
       "3   7/16/2011  \n",
       "4   7/17/2011  "
      ],
      "text/html": "<div>\n<style scoped>\n    .dataframe tbody tr th:only-of-type {\n        vertical-align: middle;\n    }\n\n    .dataframe tbody tr th {\n        vertical-align: top;\n    }\n\n    .dataframe thead th {\n        text-align: right;\n    }\n</style>\n<table border=\"1\" class=\"dataframe\">\n  <thead>\n    <tr style=\"text-align: right;\">\n      <th></th>\n      <th>ROW_ID</th>\n      <th>ORDER_ID</th>\n      <th>ORDER_DATE</th>\n      <th>PRIORITY</th>\n      <th>QUANTITY</th>\n      <th>SALES</th>\n      <th>DISCOUNT</th>\n      <th>MODE</th>\n      <th>PROFIT</th>\n      <th>UNIT_PRICE</th>\n      <th>SHIPPING_COSTS</th>\n      <th>CUSTOMER_ID</th>\n      <th>PROVINCE</th>\n      <th>REGION</th>\n      <th>SEGMENT</th>\n      <th>CATEGORY</th>\n      <th>SUB_CATEGORY</th>\n      <th>PRODUCT_NAME</th>\n      <th>PRODUCT_CONTAINER</th>\n      <th>SHIP_DATE</th>\n    </tr>\n  </thead>\n  <tbody>\n    <tr>\n      <th>0</th>\n      <td>1</td>\n      <td>3</td>\n      <td>10/13/1982</td>\n      <td>Low</td>\n      <td>6</td>\n      <td>261.5400</td>\n      <td>0.04</td>\n      <td>Regular Air</td>\n      <td>-213.25</td>\n      <td>38.94</td>\n      <td>35.00</td>\n      <td>1</td>\n      <td>Nunavut</td>\n      <td>The Northern Territories</td>\n      <td>Small Business</td>\n      <td>Office Supplies</td>\n      <td>Storage &amp; Organization</td>\n      <td>Eldon Base for stackable storage shelf, platinum</td>\n      <td>Large Box</td>\n      <td>10/20/2010</td>\n    </tr>\n    <tr>\n      <th>1</th>\n      <td>2</td>\n      <td>6</td>\n      <td>2/20/2012</td>\n      <td>Not Specified</td>\n      <td>2</td>\n      <td>6.9300</td>\n      <td>0.01</td>\n      <td>Regular Air</td>\n      <td>-4.64</td>\n      <td>2.08</td>\n      <td>2.56</td>\n      <td>782</td>\n      <td>Alberta</td>\n      <td>The West Coast</td>\n      <td>Corporate</td>\n      <td>Office Supplies</td>\n      <td>Scissors, Rulers and Trimmers</td>\n      <td>Kleencut® Forged Office Shears by Acme United ...</td>\n      <td>Small Box</td>\n      <td>2/21/2012</td>\n    </tr>\n    <tr>\n      <th>2</th>\n      <td>5</td>\n      <td>32</td>\n      <td>7/15/2011</td>\n      <td>High</td>\n      <td>23</td>\n      <td>160.2335</td>\n      <td>0.04</td>\n      <td>Regular Air</td>\n      <td>-85.13</td>\n      <td>7.99</td>\n      <td>5.03</td>\n      <td>653</td>\n      <td>Alberta</td>\n      <td>The West Coast</td>\n      <td>Corporate</td>\n      <td>Technology</td>\n      <td>Telephones and Communication</td>\n      <td>Bell Sonecor JB700 Caller ID</td>\n      <td>Medium Box</td>\n      <td>7/17/2011</td>\n    </tr>\n    <tr>\n      <th>3</th>\n      <td>4</td>\n      <td>32</td>\n      <td>7/15/2011</td>\n      <td>High</td>\n      <td>24</td>\n      <td>1761.4000</td>\n      <td>0.09</td>\n      <td>Delivery Truck</td>\n      <td>-1748.56</td>\n      <td>70.89</td>\n      <td>89.30</td>\n      <td>653</td>\n      <td>Alberta</td>\n      <td>The West Coast</td>\n      <td>Corporate</td>\n      <td>Furniture</td>\n      <td>Tables</td>\n      <td>KI Conference Tables</td>\n      <td>Jumbo Box</td>\n      <td>7/16/2011</td>\n    </tr>\n    <tr>\n      <th>4</th>\n      <td>3</td>\n      <td>32</td>\n      <td>7/15/2011</td>\n      <td>High</td>\n      <td>26</td>\n      <td>2808.0800</td>\n      <td>0.07</td>\n      <td>Regular Air</td>\n      <td>1054.82</td>\n      <td>107.53</td>\n      <td>5.81</td>\n      <td>653</td>\n      <td>Alberta</td>\n      <td>The West Coast</td>\n      <td>Corporate</td>\n      <td>Furniture</td>\n      <td>Office Furnishings</td>\n      <td>Tenex Contemporary Contur Chairmats for Low an...</td>\n      <td>Medium Box</td>\n      <td>7/17/2011</td>\n    </tr>\n  </tbody>\n</table>\n</div>"
     },
     "metadata": {},
     "execution_count": 14
    }
   ],
   "source": [
    "data_df.head()"
   ]
  },
  {
   "source": [
    "# For the managers.csv"
   ],
   "cell_type": "markdown",
   "metadata": {}
  },
  {
   "cell_type": "code",
   "execution_count": 15,
   "metadata": {},
   "outputs": [
    {
     "output_type": "execute_result",
     "data": {
      "text/plain": [
       "    REGION  MANAGER\n",
       "0  Central     Doug\n",
       "1     East     Erin\n",
       "2    South      Sam\n",
       "3     West  William"
      ],
      "text/html": "<div>\n<style scoped>\n    .dataframe tbody tr th:only-of-type {\n        vertical-align: middle;\n    }\n\n    .dataframe tbody tr th {\n        vertical-align: top;\n    }\n\n    .dataframe thead th {\n        text-align: right;\n    }\n</style>\n<table border=\"1\" class=\"dataframe\">\n  <thead>\n    <tr style=\"text-align: right;\">\n      <th></th>\n      <th>REGION</th>\n      <th>MANAGER</th>\n    </tr>\n  </thead>\n  <tbody>\n    <tr>\n      <th>0</th>\n      <td>Central</td>\n      <td>Doug</td>\n    </tr>\n    <tr>\n      <th>1</th>\n      <td>East</td>\n      <td>Erin</td>\n    </tr>\n    <tr>\n      <th>2</th>\n      <td>South</td>\n      <td>Sam</td>\n    </tr>\n    <tr>\n      <th>3</th>\n      <td>West</td>\n      <td>William</td>\n    </tr>\n  </tbody>\n</table>\n</div>"
     },
     "metadata": {},
     "execution_count": 15
    }
   ],
   "source": [
    "# Create a new df with managers csv\n",
    "region_df = managers_df[['REGION', 'MANAGER']]\n",
    "region_df"
   ]
  },
  {
   "cell_type": "code",
   "execution_count": 16,
   "metadata": {},
   "outputs": [
    {
     "output_type": "execute_result",
     "data": {
      "text/plain": [
       "array(['Central', 'East', 'South', 'West'], dtype=object)"
      ]
     },
     "metadata": {},
     "execution_count": 16
    }
   ],
   "source": [
    "# Check the values for the region column\n",
    "region_df['REGION'].unique()"
   ]
  },
  {
   "cell_type": "code",
   "execution_count": 17,
   "metadata": {},
   "outputs": [
    {
     "output_type": "execute_result",
     "data": {
      "text/plain": [
       "                   REGION  MANAGER\n",
       "0          Central Canada     Doug\n",
       "1  The Atlantic Provinces     Erin\n",
       "2    The Prarie Provinces      Sam\n",
       "3          The West Coast  William"
      ],
      "text/html": "<div>\n<style scoped>\n    .dataframe tbody tr th:only-of-type {\n        vertical-align: middle;\n    }\n\n    .dataframe tbody tr th {\n        vertical-align: top;\n    }\n\n    .dataframe thead th {\n        text-align: right;\n    }\n</style>\n<table border=\"1\" class=\"dataframe\">\n  <thead>\n    <tr style=\"text-align: right;\">\n      <th></th>\n      <th>REGION</th>\n      <th>MANAGER</th>\n    </tr>\n  </thead>\n  <tbody>\n    <tr>\n      <th>0</th>\n      <td>Central Canada</td>\n      <td>Doug</td>\n    </tr>\n    <tr>\n      <th>1</th>\n      <td>The Atlantic Provinces</td>\n      <td>Erin</td>\n    </tr>\n    <tr>\n      <th>2</th>\n      <td>The Prarie Provinces</td>\n      <td>Sam</td>\n    </tr>\n    <tr>\n      <th>3</th>\n      <td>The West Coast</td>\n      <td>William</td>\n    </tr>\n  </tbody>\n</table>\n</div>"
     },
     "metadata": {},
     "execution_count": 17
    }
   ],
   "source": [
    "# Rename the region names for the specific Canadian region\n",
    "region_df['REGION'] = region_df['REGION'].replace({'Central': 'Central Canada', 'East': 'The Atlantic Provinces', 'South': 'The Prarie Provinces', 'West': 'The West Coast'})\n",
    "region_df"
   ]
  },
  {
   "cell_type": "code",
   "execution_count": 18,
   "metadata": {},
   "outputs": [
    {
     "output_type": "execute_result",
     "data": {
      "text/plain": [
       "                     REGION  MANAGER\n",
       "0            Central Canada     Doug\n",
       "1    The Atlantic Provinces     Erin\n",
       "2      The Prarie Provinces      Sam\n",
       "3            The West Coast  William\n",
       "4  The Northern Territories      NaN"
      ],
      "text/html": "<div>\n<style scoped>\n    .dataframe tbody tr th:only-of-type {\n        vertical-align: middle;\n    }\n\n    .dataframe tbody tr th {\n        vertical-align: top;\n    }\n\n    .dataframe thead th {\n        text-align: right;\n    }\n</style>\n<table border=\"1\" class=\"dataframe\">\n  <thead>\n    <tr style=\"text-align: right;\">\n      <th></th>\n      <th>REGION</th>\n      <th>MANAGER</th>\n    </tr>\n  </thead>\n  <tbody>\n    <tr>\n      <th>0</th>\n      <td>Central Canada</td>\n      <td>Doug</td>\n    </tr>\n    <tr>\n      <th>1</th>\n      <td>The Atlantic Provinces</td>\n      <td>Erin</td>\n    </tr>\n    <tr>\n      <th>2</th>\n      <td>The Prarie Provinces</td>\n      <td>Sam</td>\n    </tr>\n    <tr>\n      <th>3</th>\n      <td>The West Coast</td>\n      <td>William</td>\n    </tr>\n    <tr>\n      <th>4</th>\n      <td>The Northern Territories</td>\n      <td>NaN</td>\n    </tr>\n  </tbody>\n</table>\n</div>"
     },
     "metadata": {},
     "execution_count": 18
    }
   ],
   "source": [
    "# Create a new row for the future Northern manager\n",
    "new_row = {'REGION': 'The Northern Territories'}\n",
    "region_df = region_df.append(new_row, ignore_index=True)\n",
    "region_df"
   ]
  },
  {
   "cell_type": "code",
   "execution_count": 19,
   "metadata": {},
   "outputs": [
    {
     "output_type": "execute_result",
     "data": {
      "text/plain": [
       "   ROW_ID  ORDER_ID  ORDER_DATE       PRIORITY  QUANTITY    SALES  DISCOUNT  \\\n",
       "0       1         3  10/13/1982            Low         6   261.54      0.04   \n",
       "1      17        97   1/28/2010         Medium        26    75.57      0.03   \n",
       "2      30       195  12/27/2010         Medium        34  1315.74      0.03   \n",
       "3      34       224   6/17/2009  Not Specified        33   528.50      0.04   \n",
       "4      33       224   6/17/2009  Not Specified        44   267.85      0.04   \n",
       "\n",
       "          MODE  PROFIT  UNIT_PRICE  ...  CUSTOMER_ID  PROVINCE  \\\n",
       "0  Regular Air -213.25       38.94  ...            1   Nunavut   \n",
       "1  Regular Air   28.24        2.89  ...          341     Yukon   \n",
       "2  Regular Air  260.87       36.55  ...          362     Yukon   \n",
       "3  Regular Air -149.92       15.42  ...          456     Yukon   \n",
       "4  Regular Air  -65.43        5.98  ...          456     Yukon   \n",
       "\n",
       "                     REGION         SEGMENT         CATEGORY  \\\n",
       "0  The Northern Territories  Small Business  Office Supplies   \n",
       "1  The Northern Territories        Consumer  Office Supplies   \n",
       "2  The Northern Territories     Home Office  Office Supplies   \n",
       "3  The Northern Territories       Corporate  Office Supplies   \n",
       "4  The Northern Territories       Corporate  Office Supplies   \n",
       "\n",
       "             SUB_CATEGORY                                       PRODUCT_NAME  \\\n",
       "0  Storage & Organization   Eldon Base for stackable storage shelf, platinum   \n",
       "1                  Labels                                          Avery 498   \n",
       "2     Pens & Art Supplies  Dixon Ticonderoga Core-Lock Colored Pencils, 4...   \n",
       "3  Storage & Organization        Decoflex Hanging Personal Folder File, Blue   \n",
       "4                   Paper                                          Xerox 193   \n",
       "\n",
       "  PRODUCT_CONTAINER   SHIP_DATE MANAGER  \n",
       "0         Large Box  10/20/2010     NaN  \n",
       "1         Small Box   1/29/2010     NaN  \n",
       "2          Wrap Bag  12/29/2010     NaN  \n",
       "3         Small Box   6/18/2009     NaN  \n",
       "4         Small Box   6/18/2009     NaN  \n",
       "\n",
       "[5 rows x 21 columns]"
      ],
      "text/html": "<div>\n<style scoped>\n    .dataframe tbody tr th:only-of-type {\n        vertical-align: middle;\n    }\n\n    .dataframe tbody tr th {\n        vertical-align: top;\n    }\n\n    .dataframe thead th {\n        text-align: right;\n    }\n</style>\n<table border=\"1\" class=\"dataframe\">\n  <thead>\n    <tr style=\"text-align: right;\">\n      <th></th>\n      <th>ROW_ID</th>\n      <th>ORDER_ID</th>\n      <th>ORDER_DATE</th>\n      <th>PRIORITY</th>\n      <th>QUANTITY</th>\n      <th>SALES</th>\n      <th>DISCOUNT</th>\n      <th>MODE</th>\n      <th>PROFIT</th>\n      <th>UNIT_PRICE</th>\n      <th>...</th>\n      <th>CUSTOMER_ID</th>\n      <th>PROVINCE</th>\n      <th>REGION</th>\n      <th>SEGMENT</th>\n      <th>CATEGORY</th>\n      <th>SUB_CATEGORY</th>\n      <th>PRODUCT_NAME</th>\n      <th>PRODUCT_CONTAINER</th>\n      <th>SHIP_DATE</th>\n      <th>MANAGER</th>\n    </tr>\n  </thead>\n  <tbody>\n    <tr>\n      <th>0</th>\n      <td>1</td>\n      <td>3</td>\n      <td>10/13/1982</td>\n      <td>Low</td>\n      <td>6</td>\n      <td>261.54</td>\n      <td>0.04</td>\n      <td>Regular Air</td>\n      <td>-213.25</td>\n      <td>38.94</td>\n      <td>...</td>\n      <td>1</td>\n      <td>Nunavut</td>\n      <td>The Northern Territories</td>\n      <td>Small Business</td>\n      <td>Office Supplies</td>\n      <td>Storage &amp; Organization</td>\n      <td>Eldon Base for stackable storage shelf, platinum</td>\n      <td>Large Box</td>\n      <td>10/20/2010</td>\n      <td>NaN</td>\n    </tr>\n    <tr>\n      <th>1</th>\n      <td>17</td>\n      <td>97</td>\n      <td>1/28/2010</td>\n      <td>Medium</td>\n      <td>26</td>\n      <td>75.57</td>\n      <td>0.03</td>\n      <td>Regular Air</td>\n      <td>28.24</td>\n      <td>2.89</td>\n      <td>...</td>\n      <td>341</td>\n      <td>Yukon</td>\n      <td>The Northern Territories</td>\n      <td>Consumer</td>\n      <td>Office Supplies</td>\n      <td>Labels</td>\n      <td>Avery 498</td>\n      <td>Small Box</td>\n      <td>1/29/2010</td>\n      <td>NaN</td>\n    </tr>\n    <tr>\n      <th>2</th>\n      <td>30</td>\n      <td>195</td>\n      <td>12/27/2010</td>\n      <td>Medium</td>\n      <td>34</td>\n      <td>1315.74</td>\n      <td>0.03</td>\n      <td>Regular Air</td>\n      <td>260.87</td>\n      <td>36.55</td>\n      <td>...</td>\n      <td>362</td>\n      <td>Yukon</td>\n      <td>The Northern Territories</td>\n      <td>Home Office</td>\n      <td>Office Supplies</td>\n      <td>Pens &amp; Art Supplies</td>\n      <td>Dixon Ticonderoga Core-Lock Colored Pencils, 4...</td>\n      <td>Wrap Bag</td>\n      <td>12/29/2010</td>\n      <td>NaN</td>\n    </tr>\n    <tr>\n      <th>3</th>\n      <td>34</td>\n      <td>224</td>\n      <td>6/17/2009</td>\n      <td>Not Specified</td>\n      <td>33</td>\n      <td>528.50</td>\n      <td>0.04</td>\n      <td>Regular Air</td>\n      <td>-149.92</td>\n      <td>15.42</td>\n      <td>...</td>\n      <td>456</td>\n      <td>Yukon</td>\n      <td>The Northern Territories</td>\n      <td>Corporate</td>\n      <td>Office Supplies</td>\n      <td>Storage &amp; Organization</td>\n      <td>Decoflex Hanging Personal Folder File, Blue</td>\n      <td>Small Box</td>\n      <td>6/18/2009</td>\n      <td>NaN</td>\n    </tr>\n    <tr>\n      <th>4</th>\n      <td>33</td>\n      <td>224</td>\n      <td>6/17/2009</td>\n      <td>Not Specified</td>\n      <td>44</td>\n      <td>267.85</td>\n      <td>0.04</td>\n      <td>Regular Air</td>\n      <td>-65.43</td>\n      <td>5.98</td>\n      <td>...</td>\n      <td>456</td>\n      <td>Yukon</td>\n      <td>The Northern Territories</td>\n      <td>Corporate</td>\n      <td>Office Supplies</td>\n      <td>Paper</td>\n      <td>Xerox 193</td>\n      <td>Small Box</td>\n      <td>6/18/2009</td>\n      <td>NaN</td>\n    </tr>\n  </tbody>\n</table>\n<p>5 rows × 21 columns</p>\n</div>"
     },
     "metadata": {},
     "execution_count": 19
    }
   ],
   "source": [
    "# Merge orders and managers dataframe on \"REGION\" so we can see the Region Manager \n",
    "merged = pd.merge(data_df, region_df, on=\"REGION\", how=\"inner\")\n",
    "merged.head()"
   ]
  },
  {
   "source": [
    "# For the customers.csv"
   ],
   "cell_type": "markdown",
   "metadata": {}
  },
  {
   "cell_type": "code",
   "execution_count": 20,
   "metadata": {},
   "outputs": [
    {
     "output_type": "execute_result",
     "data": {
      "text/plain": [
       "     CUSTOMER_ID       CUSTOMER_NAME CUSTOMER_TYPE\n",
       "0              1  Muhammed MacIntyre      Type - E\n",
       "1              2        Barry French      Type - H\n",
       "2              3       Clay Rozendal      Type - L\n",
       "3              4      Carlos Soltero      Type - O\n",
       "4              5        Carl Jackson      Type - N\n",
       "..           ...                 ...           ...\n",
       "790          791         Cyma Kinney      Type - Y\n",
       "791          792            Shui Tom      Type - M\n",
       "792          793    Victoria Brennan      Type - N\n",
       "793          794        Adrian Shami      Type - I\n",
       "794          795        Harry Greene      Type - E\n",
       "\n",
       "[795 rows x 3 columns]"
      ],
      "text/html": "<div>\n<style scoped>\n    .dataframe tbody tr th:only-of-type {\n        vertical-align: middle;\n    }\n\n    .dataframe tbody tr th {\n        vertical-align: top;\n    }\n\n    .dataframe thead th {\n        text-align: right;\n    }\n</style>\n<table border=\"1\" class=\"dataframe\">\n  <thead>\n    <tr style=\"text-align: right;\">\n      <th></th>\n      <th>CUSTOMER_ID</th>\n      <th>CUSTOMER_NAME</th>\n      <th>CUSTOMER_TYPE</th>\n    </tr>\n  </thead>\n  <tbody>\n    <tr>\n      <th>0</th>\n      <td>1</td>\n      <td>Muhammed MacIntyre</td>\n      <td>Type - E</td>\n    </tr>\n    <tr>\n      <th>1</th>\n      <td>2</td>\n      <td>Barry French</td>\n      <td>Type - H</td>\n    </tr>\n    <tr>\n      <th>2</th>\n      <td>3</td>\n      <td>Clay Rozendal</td>\n      <td>Type - L</td>\n    </tr>\n    <tr>\n      <th>3</th>\n      <td>4</td>\n      <td>Carlos Soltero</td>\n      <td>Type - O</td>\n    </tr>\n    <tr>\n      <th>4</th>\n      <td>5</td>\n      <td>Carl Jackson</td>\n      <td>Type - N</td>\n    </tr>\n    <tr>\n      <th>...</th>\n      <td>...</td>\n      <td>...</td>\n      <td>...</td>\n    </tr>\n    <tr>\n      <th>790</th>\n      <td>791</td>\n      <td>Cyma Kinney</td>\n      <td>Type - Y</td>\n    </tr>\n    <tr>\n      <th>791</th>\n      <td>792</td>\n      <td>Shui Tom</td>\n      <td>Type - M</td>\n    </tr>\n    <tr>\n      <th>792</th>\n      <td>793</td>\n      <td>Victoria Brennan</td>\n      <td>Type - N</td>\n    </tr>\n    <tr>\n      <th>793</th>\n      <td>794</td>\n      <td>Adrian Shami</td>\n      <td>Type - I</td>\n    </tr>\n    <tr>\n      <th>794</th>\n      <td>795</td>\n      <td>Harry Greene</td>\n      <td>Type - E</td>\n    </tr>\n  </tbody>\n</table>\n<p>795 rows × 3 columns</p>\n</div>"
     },
     "metadata": {},
     "execution_count": 20
    }
   ],
   "source": [
    "# Customers dataframe\n",
    "customers_df"
   ]
  },
  {
   "cell_type": "code",
   "execution_count": 32,
   "metadata": {},
   "outputs": [
    {
     "output_type": "execute_result",
     "data": {
      "text/plain": [
       "      ROW_ID  ORDER_ID  ORDER_DATE       PRIORITY  QUANTITY    SALES  \\\n",
       "0          1         3  10/13/1982            Low         6   261.54   \n",
       "1       1930     13795   4/10/2011  Not Specified        37  1302.99   \n",
       "2       1929     13795   4/10/2011  Not Specified        23   275.16   \n",
       "3       1928     13795   4/10/2011  Not Specified        30   501.32   \n",
       "4       2384     17286   9/21/2010           High         7  1810.67   \n",
       "...      ...       ...         ...            ...       ...      ...   \n",
       "8394    8347     59680   6/18/2012       Critical        15    17.77   \n",
       "8395    3187     22880   5/30/2010         Medium        13    24.96   \n",
       "8396    7041     50276   2/14/2011  Not Specified        34   390.35   \n",
       "8397    7961     56900  11/26/2011  Not Specified        16    54.32   \n",
       "8398    7974     57056   11/8/2012            Low        29  2185.61   \n",
       "\n",
       "      DISCOUNT            MODE   PROFIT  UNIT_PRICE  ...  \\\n",
       "0         0.04     Regular Air  -213.25       38.94  ...   \n",
       "1         0.02     Regular Air   545.49       35.44  ...   \n",
       "2         0.05     Express Air    43.35       11.34  ...   \n",
       "3         0.04     Regular Air  -119.08       15.99  ...   \n",
       "4         0.09  Delivery Truck  -541.87      270.98  ...   \n",
       "...        ...             ...      ...         ...  ...   \n",
       "8394      0.05     Regular Air   -37.67        0.99  ...   \n",
       "8395      0.01     Regular Air   -20.68        1.70  ...   \n",
       "8396      0.05     Regular Air    71.03       11.55  ...   \n",
       "8397      0.09     Regular Air    16.11        3.41  ...   \n",
       "8398      0.01  Delivery Truck -2897.25       70.89  ...   \n",
       "\n",
       "                        REGION         SEGMENT         CATEGORY  \\\n",
       "0     The Northern Territories  Small Business  Office Supplies   \n",
       "1     The Northern Territories  Small Business  Office Supplies   \n",
       "2     The Northern Territories  Small Business  Office Supplies   \n",
       "3     The Northern Territories  Small Business  Office Supplies   \n",
       "4     The Northern Territories  Small Business        Furniture   \n",
       "...                        ...             ...              ...   \n",
       "8394    The Atlantic Provinces        Consumer       Technology   \n",
       "8395    The Atlantic Provinces  Small Business       Technology   \n",
       "8396    The Atlantic Provinces  Small Business  Office Supplies   \n",
       "8397    The Atlantic Provinces  Small Business  Office Supplies   \n",
       "8398    The Atlantic Provinces       Corporate        Furniture   \n",
       "\n",
       "                        SUB_CATEGORY  \\\n",
       "0             Storage & Organization   \n",
       "1                              Paper   \n",
       "2                              Paper   \n",
       "3     Binders and Binder Accessories   \n",
       "4                 Chairs & Chairmats   \n",
       "...                              ...   \n",
       "8394            Computer Peripherals   \n",
       "8395            Computer Peripherals   \n",
       "8396             Pens & Art Supplies   \n",
       "8397                    Rubber Bands   \n",
       "8398                          Tables   \n",
       "\n",
       "                                           PRODUCT_NAME PRODUCT_CONTAINER  \\\n",
       "0      Eldon Base for stackable storage shelf, platinum         Large Box   \n",
       "1                                            Xerox 1932         Small Box   \n",
       "2                                             Xerox 188         Small Box   \n",
       "3     GBC Pre-Punched Binding Paper, Plastic, White,...         Small Box   \n",
       "4     Global Enterprise Series Seating High-Back Swi...        Jumbo Drum   \n",
       "...                                                 ...               ...   \n",
       "8394                  Sony IBM Color Diskettes, 25/Pack         Small Box   \n",
       "8395                         BASF Silver 74 Minute CD-R         Small Box   \n",
       "8396                                         Newell 309          Wrap Bag   \n",
       "8397                    Advantus SlideClip Paper Clips          Wrap Bag   \n",
       "8398                               KI Conference Tables         Jumbo Box   \n",
       "\n",
       "       SHIP_DATE MANAGER       CUSTOMER_NAME CUSTOMER_TYPE  \n",
       "0     10/20/2010     NaN  Muhammed MacIntyre      Type - E  \n",
       "1      4/11/2011     NaN  Muhammed MacIntyre      Type - E  \n",
       "2      4/13/2011     NaN  Muhammed MacIntyre      Type - E  \n",
       "3      4/13/2011     NaN  Muhammed MacIntyre      Type - E  \n",
       "4      9/22/2010     NaN  Muhammed MacIntyre      Type - E  \n",
       "...          ...     ...                 ...           ...  \n",
       "8394   6/19/2012    Erin    Katherine Hughes      Type - S  \n",
       "8395    6/2/2010    Erin     Bradley Talbott      Type - T  \n",
       "8396   2/15/2011    Erin     Bradley Talbott      Type - T  \n",
       "8397  11/28/2011    Erin     Bradley Talbott      Type - T  \n",
       "8398  11/15/2012    Erin     Bradley Talbott      Type - T  \n",
       "\n",
       "[8399 rows x 23 columns]"
      ],
      "text/html": "<div>\n<style scoped>\n    .dataframe tbody tr th:only-of-type {\n        vertical-align: middle;\n    }\n\n    .dataframe tbody tr th {\n        vertical-align: top;\n    }\n\n    .dataframe thead th {\n        text-align: right;\n    }\n</style>\n<table border=\"1\" class=\"dataframe\">\n  <thead>\n    <tr style=\"text-align: right;\">\n      <th></th>\n      <th>ROW_ID</th>\n      <th>ORDER_ID</th>\n      <th>ORDER_DATE</th>\n      <th>PRIORITY</th>\n      <th>QUANTITY</th>\n      <th>SALES</th>\n      <th>DISCOUNT</th>\n      <th>MODE</th>\n      <th>PROFIT</th>\n      <th>UNIT_PRICE</th>\n      <th>...</th>\n      <th>REGION</th>\n      <th>SEGMENT</th>\n      <th>CATEGORY</th>\n      <th>SUB_CATEGORY</th>\n      <th>PRODUCT_NAME</th>\n      <th>PRODUCT_CONTAINER</th>\n      <th>SHIP_DATE</th>\n      <th>MANAGER</th>\n      <th>CUSTOMER_NAME</th>\n      <th>CUSTOMER_TYPE</th>\n    </tr>\n  </thead>\n  <tbody>\n    <tr>\n      <th>0</th>\n      <td>1</td>\n      <td>3</td>\n      <td>10/13/1982</td>\n      <td>Low</td>\n      <td>6</td>\n      <td>261.54</td>\n      <td>0.04</td>\n      <td>Regular Air</td>\n      <td>-213.25</td>\n      <td>38.94</td>\n      <td>...</td>\n      <td>The Northern Territories</td>\n      <td>Small Business</td>\n      <td>Office Supplies</td>\n      <td>Storage &amp; Organization</td>\n      <td>Eldon Base for stackable storage shelf, platinum</td>\n      <td>Large Box</td>\n      <td>10/20/2010</td>\n      <td>NaN</td>\n      <td>Muhammed MacIntyre</td>\n      <td>Type - E</td>\n    </tr>\n    <tr>\n      <th>1</th>\n      <td>1930</td>\n      <td>13795</td>\n      <td>4/10/2011</td>\n      <td>Not Specified</td>\n      <td>37</td>\n      <td>1302.99</td>\n      <td>0.02</td>\n      <td>Regular Air</td>\n      <td>545.49</td>\n      <td>35.44</td>\n      <td>...</td>\n      <td>The Northern Territories</td>\n      <td>Small Business</td>\n      <td>Office Supplies</td>\n      <td>Paper</td>\n      <td>Xerox 1932</td>\n      <td>Small Box</td>\n      <td>4/11/2011</td>\n      <td>NaN</td>\n      <td>Muhammed MacIntyre</td>\n      <td>Type - E</td>\n    </tr>\n    <tr>\n      <th>2</th>\n      <td>1929</td>\n      <td>13795</td>\n      <td>4/10/2011</td>\n      <td>Not Specified</td>\n      <td>23</td>\n      <td>275.16</td>\n      <td>0.05</td>\n      <td>Express Air</td>\n      <td>43.35</td>\n      <td>11.34</td>\n      <td>...</td>\n      <td>The Northern Territories</td>\n      <td>Small Business</td>\n      <td>Office Supplies</td>\n      <td>Paper</td>\n      <td>Xerox 188</td>\n      <td>Small Box</td>\n      <td>4/13/2011</td>\n      <td>NaN</td>\n      <td>Muhammed MacIntyre</td>\n      <td>Type - E</td>\n    </tr>\n    <tr>\n      <th>3</th>\n      <td>1928</td>\n      <td>13795</td>\n      <td>4/10/2011</td>\n      <td>Not Specified</td>\n      <td>30</td>\n      <td>501.32</td>\n      <td>0.04</td>\n      <td>Regular Air</td>\n      <td>-119.08</td>\n      <td>15.99</td>\n      <td>...</td>\n      <td>The Northern Territories</td>\n      <td>Small Business</td>\n      <td>Office Supplies</td>\n      <td>Binders and Binder Accessories</td>\n      <td>GBC Pre-Punched Binding Paper, Plastic, White,...</td>\n      <td>Small Box</td>\n      <td>4/13/2011</td>\n      <td>NaN</td>\n      <td>Muhammed MacIntyre</td>\n      <td>Type - E</td>\n    </tr>\n    <tr>\n      <th>4</th>\n      <td>2384</td>\n      <td>17286</td>\n      <td>9/21/2010</td>\n      <td>High</td>\n      <td>7</td>\n      <td>1810.67</td>\n      <td>0.09</td>\n      <td>Delivery Truck</td>\n      <td>-541.87</td>\n      <td>270.98</td>\n      <td>...</td>\n      <td>The Northern Territories</td>\n      <td>Small Business</td>\n      <td>Furniture</td>\n      <td>Chairs &amp; Chairmats</td>\n      <td>Global Enterprise Series Seating High-Back Swi...</td>\n      <td>Jumbo Drum</td>\n      <td>9/22/2010</td>\n      <td>NaN</td>\n      <td>Muhammed MacIntyre</td>\n      <td>Type - E</td>\n    </tr>\n    <tr>\n      <th>...</th>\n      <td>...</td>\n      <td>...</td>\n      <td>...</td>\n      <td>...</td>\n      <td>...</td>\n      <td>...</td>\n      <td>...</td>\n      <td>...</td>\n      <td>...</td>\n      <td>...</td>\n      <td>...</td>\n      <td>...</td>\n      <td>...</td>\n      <td>...</td>\n      <td>...</td>\n      <td>...</td>\n      <td>...</td>\n      <td>...</td>\n      <td>...</td>\n      <td>...</td>\n      <td>...</td>\n    </tr>\n    <tr>\n      <th>8394</th>\n      <td>8347</td>\n      <td>59680</td>\n      <td>6/18/2012</td>\n      <td>Critical</td>\n      <td>15</td>\n      <td>17.77</td>\n      <td>0.05</td>\n      <td>Regular Air</td>\n      <td>-37.67</td>\n      <td>0.99</td>\n      <td>...</td>\n      <td>The Atlantic Provinces</td>\n      <td>Consumer</td>\n      <td>Technology</td>\n      <td>Computer Peripherals</td>\n      <td>Sony IBM Color Diskettes, 25/Pack</td>\n      <td>Small Box</td>\n      <td>6/19/2012</td>\n      <td>Erin</td>\n      <td>Katherine Hughes</td>\n      <td>Type - S</td>\n    </tr>\n    <tr>\n      <th>8395</th>\n      <td>3187</td>\n      <td>22880</td>\n      <td>5/30/2010</td>\n      <td>Medium</td>\n      <td>13</td>\n      <td>24.96</td>\n      <td>0.01</td>\n      <td>Regular Air</td>\n      <td>-20.68</td>\n      <td>1.70</td>\n      <td>...</td>\n      <td>The Atlantic Provinces</td>\n      <td>Small Business</td>\n      <td>Technology</td>\n      <td>Computer Peripherals</td>\n      <td>BASF Silver 74 Minute CD-R</td>\n      <td>Small Box</td>\n      <td>6/2/2010</td>\n      <td>Erin</td>\n      <td>Bradley Talbott</td>\n      <td>Type - T</td>\n    </tr>\n    <tr>\n      <th>8396</th>\n      <td>7041</td>\n      <td>50276</td>\n      <td>2/14/2011</td>\n      <td>Not Specified</td>\n      <td>34</td>\n      <td>390.35</td>\n      <td>0.05</td>\n      <td>Regular Air</td>\n      <td>71.03</td>\n      <td>11.55</td>\n      <td>...</td>\n      <td>The Atlantic Provinces</td>\n      <td>Small Business</td>\n      <td>Office Supplies</td>\n      <td>Pens &amp; Art Supplies</td>\n      <td>Newell 309</td>\n      <td>Wrap Bag</td>\n      <td>2/15/2011</td>\n      <td>Erin</td>\n      <td>Bradley Talbott</td>\n      <td>Type - T</td>\n    </tr>\n    <tr>\n      <th>8397</th>\n      <td>7961</td>\n      <td>56900</td>\n      <td>11/26/2011</td>\n      <td>Not Specified</td>\n      <td>16</td>\n      <td>54.32</td>\n      <td>0.09</td>\n      <td>Regular Air</td>\n      <td>16.11</td>\n      <td>3.41</td>\n      <td>...</td>\n      <td>The Atlantic Provinces</td>\n      <td>Small Business</td>\n      <td>Office Supplies</td>\n      <td>Rubber Bands</td>\n      <td>Advantus SlideClip Paper Clips</td>\n      <td>Wrap Bag</td>\n      <td>11/28/2011</td>\n      <td>Erin</td>\n      <td>Bradley Talbott</td>\n      <td>Type - T</td>\n    </tr>\n    <tr>\n      <th>8398</th>\n      <td>7974</td>\n      <td>57056</td>\n      <td>11/8/2012</td>\n      <td>Low</td>\n      <td>29</td>\n      <td>2185.61</td>\n      <td>0.01</td>\n      <td>Delivery Truck</td>\n      <td>-2897.25</td>\n      <td>70.89</td>\n      <td>...</td>\n      <td>The Atlantic Provinces</td>\n      <td>Corporate</td>\n      <td>Furniture</td>\n      <td>Tables</td>\n      <td>KI Conference Tables</td>\n      <td>Jumbo Box</td>\n      <td>11/15/2012</td>\n      <td>Erin</td>\n      <td>Bradley Talbott</td>\n      <td>Type - T</td>\n    </tr>\n  </tbody>\n</table>\n<p>8399 rows × 23 columns</p>\n</div>"
     },
     "metadata": {},
     "execution_count": 32
    }
   ],
   "source": [
    "# Merge the previous df and customers df on \"CUSTOMER_ID\" so we can see the Customer_name and type\n",
    "merged2 = pd.merge(merged, customers_df, on=\"CUSTOMER_ID\", how=\"inner\")\n",
    "merged2"
   ]
  },
  {
   "source": [
    "# For the Returns.csv"
   ],
   "cell_type": "markdown",
   "metadata": {}
  },
  {
   "cell_type": "code",
   "execution_count": 30,
   "metadata": {},
   "outputs": [
    {
     "output_type": "execute_result",
     "data": {
      "text/plain": [
       "     ORDER_ID ORDER_STATUS\n",
       "0          65     Returned\n",
       "1          69     Returned\n",
       "2         134     Returned\n",
       "3         135     Returned\n",
       "4         230     Returned\n",
       "..        ...          ...\n",
       "567     59680     Returned\n",
       "568     59683     Returned\n",
       "569     59776     Returned\n",
       "570     59879     Returned\n",
       "571     59937     Returned\n",
       "\n",
       "[572 rows x 2 columns]"
      ],
      "text/html": "<div>\n<style scoped>\n    .dataframe tbody tr th:only-of-type {\n        vertical-align: middle;\n    }\n\n    .dataframe tbody tr th {\n        vertical-align: top;\n    }\n\n    .dataframe thead th {\n        text-align: right;\n    }\n</style>\n<table border=\"1\" class=\"dataframe\">\n  <thead>\n    <tr style=\"text-align: right;\">\n      <th></th>\n      <th>ORDER_ID</th>\n      <th>ORDER_STATUS</th>\n    </tr>\n  </thead>\n  <tbody>\n    <tr>\n      <th>0</th>\n      <td>65</td>\n      <td>Returned</td>\n    </tr>\n    <tr>\n      <th>1</th>\n      <td>69</td>\n      <td>Returned</td>\n    </tr>\n    <tr>\n      <th>2</th>\n      <td>134</td>\n      <td>Returned</td>\n    </tr>\n    <tr>\n      <th>3</th>\n      <td>135</td>\n      <td>Returned</td>\n    </tr>\n    <tr>\n      <th>4</th>\n      <td>230</td>\n      <td>Returned</td>\n    </tr>\n    <tr>\n      <th>...</th>\n      <td>...</td>\n      <td>...</td>\n    </tr>\n    <tr>\n      <th>567</th>\n      <td>59680</td>\n      <td>Returned</td>\n    </tr>\n    <tr>\n      <th>568</th>\n      <td>59683</td>\n      <td>Returned</td>\n    </tr>\n    <tr>\n      <th>569</th>\n      <td>59776</td>\n      <td>Returned</td>\n    </tr>\n    <tr>\n      <th>570</th>\n      <td>59879</td>\n      <td>Returned</td>\n    </tr>\n    <tr>\n      <th>571</th>\n      <td>59937</td>\n      <td>Returned</td>\n    </tr>\n  </tbody>\n</table>\n<p>572 rows × 2 columns</p>\n</div>"
     },
     "metadata": {},
     "execution_count": 30
    }
   ],
   "source": [
    "# Returns dataframe\n",
    "returns_df"
   ]
  },
  {
   "cell_type": "code",
   "execution_count": 33,
   "metadata": {},
   "outputs": [
    {
     "output_type": "execute_result",
     "data": {
      "text/plain": [
       "      ROW_ID  ORDER_ID  ORDER_DATE       PRIORITY  QUANTITY    SALES  \\\n",
       "0          1         3  10/13/1982            Low         6   261.54   \n",
       "1       1930     13795   4/10/2011  Not Specified        37  1302.99   \n",
       "2       1929     13795   4/10/2011  Not Specified        23   275.16   \n",
       "3       1928     13795   4/10/2011  Not Specified        30   501.32   \n",
       "4       2384     17286   9/21/2010           High         7  1810.67   \n",
       "...      ...       ...         ...            ...       ...      ...   \n",
       "8394    8347     59680   6/18/2012       Critical        15    17.77   \n",
       "8395    3187     22880   5/30/2010         Medium        13    24.96   \n",
       "8396    7041     50276   2/14/2011  Not Specified        34   390.35   \n",
       "8397    7961     56900  11/26/2011  Not Specified        16    54.32   \n",
       "8398    7974     57056   11/8/2012            Low        29  2185.61   \n",
       "\n",
       "      DISCOUNT            MODE   PROFIT  UNIT_PRICE  ...         SEGMENT  \\\n",
       "0         0.04     Regular Air  -213.25       38.94  ...  Small Business   \n",
       "1         0.02     Regular Air   545.49       35.44  ...  Small Business   \n",
       "2         0.05     Express Air    43.35       11.34  ...  Small Business   \n",
       "3         0.04     Regular Air  -119.08       15.99  ...  Small Business   \n",
       "4         0.09  Delivery Truck  -541.87      270.98  ...  Small Business   \n",
       "...        ...             ...      ...         ...  ...             ...   \n",
       "8394      0.05     Regular Air   -37.67        0.99  ...        Consumer   \n",
       "8395      0.01     Regular Air   -20.68        1.70  ...  Small Business   \n",
       "8396      0.05     Regular Air    71.03       11.55  ...  Small Business   \n",
       "8397      0.09     Regular Air    16.11        3.41  ...  Small Business   \n",
       "8398      0.01  Delivery Truck -2897.25       70.89  ...       Corporate   \n",
       "\n",
       "             CATEGORY                    SUB_CATEGORY  \\\n",
       "0     Office Supplies          Storage & Organization   \n",
       "1     Office Supplies                           Paper   \n",
       "2     Office Supplies                           Paper   \n",
       "3     Office Supplies  Binders and Binder Accessories   \n",
       "4           Furniture              Chairs & Chairmats   \n",
       "...               ...                             ...   \n",
       "8394       Technology            Computer Peripherals   \n",
       "8395       Technology            Computer Peripherals   \n",
       "8396  Office Supplies             Pens & Art Supplies   \n",
       "8397  Office Supplies                    Rubber Bands   \n",
       "8398        Furniture                          Tables   \n",
       "\n",
       "                                           PRODUCT_NAME PRODUCT_CONTAINER  \\\n",
       "0      Eldon Base for stackable storage shelf, platinum         Large Box   \n",
       "1                                            Xerox 1932         Small Box   \n",
       "2                                             Xerox 188         Small Box   \n",
       "3     GBC Pre-Punched Binding Paper, Plastic, White,...         Small Box   \n",
       "4     Global Enterprise Series Seating High-Back Swi...        Jumbo Drum   \n",
       "...                                                 ...               ...   \n",
       "8394                  Sony IBM Color Diskettes, 25/Pack         Small Box   \n",
       "8395                         BASF Silver 74 Minute CD-R         Small Box   \n",
       "8396                                         Newell 309          Wrap Bag   \n",
       "8397                    Advantus SlideClip Paper Clips          Wrap Bag   \n",
       "8398                               KI Conference Tables         Jumbo Box   \n",
       "\n",
       "       SHIP_DATE MANAGER       CUSTOMER_NAME CUSTOMER_TYPE ORDER_STATUS  \n",
       "0     10/20/2010     NaN  Muhammed MacIntyre      Type - E          NaN  \n",
       "1      4/11/2011     NaN  Muhammed MacIntyre      Type - E          NaN  \n",
       "2      4/13/2011     NaN  Muhammed MacIntyre      Type - E          NaN  \n",
       "3      4/13/2011     NaN  Muhammed MacIntyre      Type - E          NaN  \n",
       "4      9/22/2010     NaN  Muhammed MacIntyre      Type - E          NaN  \n",
       "...          ...     ...                 ...           ...          ...  \n",
       "8394   6/19/2012    Erin    Katherine Hughes      Type - S     Returned  \n",
       "8395    6/2/2010    Erin     Bradley Talbott      Type - T          NaN  \n",
       "8396   2/15/2011    Erin     Bradley Talbott      Type - T          NaN  \n",
       "8397  11/28/2011    Erin     Bradley Talbott      Type - T          NaN  \n",
       "8398  11/15/2012    Erin     Bradley Talbott      Type - T          NaN  \n",
       "\n",
       "[8399 rows x 24 columns]"
      ],
      "text/html": "<div>\n<style scoped>\n    .dataframe tbody tr th:only-of-type {\n        vertical-align: middle;\n    }\n\n    .dataframe tbody tr th {\n        vertical-align: top;\n    }\n\n    .dataframe thead th {\n        text-align: right;\n    }\n</style>\n<table border=\"1\" class=\"dataframe\">\n  <thead>\n    <tr style=\"text-align: right;\">\n      <th></th>\n      <th>ROW_ID</th>\n      <th>ORDER_ID</th>\n      <th>ORDER_DATE</th>\n      <th>PRIORITY</th>\n      <th>QUANTITY</th>\n      <th>SALES</th>\n      <th>DISCOUNT</th>\n      <th>MODE</th>\n      <th>PROFIT</th>\n      <th>UNIT_PRICE</th>\n      <th>...</th>\n      <th>SEGMENT</th>\n      <th>CATEGORY</th>\n      <th>SUB_CATEGORY</th>\n      <th>PRODUCT_NAME</th>\n      <th>PRODUCT_CONTAINER</th>\n      <th>SHIP_DATE</th>\n      <th>MANAGER</th>\n      <th>CUSTOMER_NAME</th>\n      <th>CUSTOMER_TYPE</th>\n      <th>ORDER_STATUS</th>\n    </tr>\n  </thead>\n  <tbody>\n    <tr>\n      <th>0</th>\n      <td>1</td>\n      <td>3</td>\n      <td>10/13/1982</td>\n      <td>Low</td>\n      <td>6</td>\n      <td>261.54</td>\n      <td>0.04</td>\n      <td>Regular Air</td>\n      <td>-213.25</td>\n      <td>38.94</td>\n      <td>...</td>\n      <td>Small Business</td>\n      <td>Office Supplies</td>\n      <td>Storage &amp; Organization</td>\n      <td>Eldon Base for stackable storage shelf, platinum</td>\n      <td>Large Box</td>\n      <td>10/20/2010</td>\n      <td>NaN</td>\n      <td>Muhammed MacIntyre</td>\n      <td>Type - E</td>\n      <td>NaN</td>\n    </tr>\n    <tr>\n      <th>1</th>\n      <td>1930</td>\n      <td>13795</td>\n      <td>4/10/2011</td>\n      <td>Not Specified</td>\n      <td>37</td>\n      <td>1302.99</td>\n      <td>0.02</td>\n      <td>Regular Air</td>\n      <td>545.49</td>\n      <td>35.44</td>\n      <td>...</td>\n      <td>Small Business</td>\n      <td>Office Supplies</td>\n      <td>Paper</td>\n      <td>Xerox 1932</td>\n      <td>Small Box</td>\n      <td>4/11/2011</td>\n      <td>NaN</td>\n      <td>Muhammed MacIntyre</td>\n      <td>Type - E</td>\n      <td>NaN</td>\n    </tr>\n    <tr>\n      <th>2</th>\n      <td>1929</td>\n      <td>13795</td>\n      <td>4/10/2011</td>\n      <td>Not Specified</td>\n      <td>23</td>\n      <td>275.16</td>\n      <td>0.05</td>\n      <td>Express Air</td>\n      <td>43.35</td>\n      <td>11.34</td>\n      <td>...</td>\n      <td>Small Business</td>\n      <td>Office Supplies</td>\n      <td>Paper</td>\n      <td>Xerox 188</td>\n      <td>Small Box</td>\n      <td>4/13/2011</td>\n      <td>NaN</td>\n      <td>Muhammed MacIntyre</td>\n      <td>Type - E</td>\n      <td>NaN</td>\n    </tr>\n    <tr>\n      <th>3</th>\n      <td>1928</td>\n      <td>13795</td>\n      <td>4/10/2011</td>\n      <td>Not Specified</td>\n      <td>30</td>\n      <td>501.32</td>\n      <td>0.04</td>\n      <td>Regular Air</td>\n      <td>-119.08</td>\n      <td>15.99</td>\n      <td>...</td>\n      <td>Small Business</td>\n      <td>Office Supplies</td>\n      <td>Binders and Binder Accessories</td>\n      <td>GBC Pre-Punched Binding Paper, Plastic, White,...</td>\n      <td>Small Box</td>\n      <td>4/13/2011</td>\n      <td>NaN</td>\n      <td>Muhammed MacIntyre</td>\n      <td>Type - E</td>\n      <td>NaN</td>\n    </tr>\n    <tr>\n      <th>4</th>\n      <td>2384</td>\n      <td>17286</td>\n      <td>9/21/2010</td>\n      <td>High</td>\n      <td>7</td>\n      <td>1810.67</td>\n      <td>0.09</td>\n      <td>Delivery Truck</td>\n      <td>-541.87</td>\n      <td>270.98</td>\n      <td>...</td>\n      <td>Small Business</td>\n      <td>Furniture</td>\n      <td>Chairs &amp; Chairmats</td>\n      <td>Global Enterprise Series Seating High-Back Swi...</td>\n      <td>Jumbo Drum</td>\n      <td>9/22/2010</td>\n      <td>NaN</td>\n      <td>Muhammed MacIntyre</td>\n      <td>Type - E</td>\n      <td>NaN</td>\n    </tr>\n    <tr>\n      <th>...</th>\n      <td>...</td>\n      <td>...</td>\n      <td>...</td>\n      <td>...</td>\n      <td>...</td>\n      <td>...</td>\n      <td>...</td>\n      <td>...</td>\n      <td>...</td>\n      <td>...</td>\n      <td>...</td>\n      <td>...</td>\n      <td>...</td>\n      <td>...</td>\n      <td>...</td>\n      <td>...</td>\n      <td>...</td>\n      <td>...</td>\n      <td>...</td>\n      <td>...</td>\n      <td>...</td>\n    </tr>\n    <tr>\n      <th>8394</th>\n      <td>8347</td>\n      <td>59680</td>\n      <td>6/18/2012</td>\n      <td>Critical</td>\n      <td>15</td>\n      <td>17.77</td>\n      <td>0.05</td>\n      <td>Regular Air</td>\n      <td>-37.67</td>\n      <td>0.99</td>\n      <td>...</td>\n      <td>Consumer</td>\n      <td>Technology</td>\n      <td>Computer Peripherals</td>\n      <td>Sony IBM Color Diskettes, 25/Pack</td>\n      <td>Small Box</td>\n      <td>6/19/2012</td>\n      <td>Erin</td>\n      <td>Katherine Hughes</td>\n      <td>Type - S</td>\n      <td>Returned</td>\n    </tr>\n    <tr>\n      <th>8395</th>\n      <td>3187</td>\n      <td>22880</td>\n      <td>5/30/2010</td>\n      <td>Medium</td>\n      <td>13</td>\n      <td>24.96</td>\n      <td>0.01</td>\n      <td>Regular Air</td>\n      <td>-20.68</td>\n      <td>1.70</td>\n      <td>...</td>\n      <td>Small Business</td>\n      <td>Technology</td>\n      <td>Computer Peripherals</td>\n      <td>BASF Silver 74 Minute CD-R</td>\n      <td>Small Box</td>\n      <td>6/2/2010</td>\n      <td>Erin</td>\n      <td>Bradley Talbott</td>\n      <td>Type - T</td>\n      <td>NaN</td>\n    </tr>\n    <tr>\n      <th>8396</th>\n      <td>7041</td>\n      <td>50276</td>\n      <td>2/14/2011</td>\n      <td>Not Specified</td>\n      <td>34</td>\n      <td>390.35</td>\n      <td>0.05</td>\n      <td>Regular Air</td>\n      <td>71.03</td>\n      <td>11.55</td>\n      <td>...</td>\n      <td>Small Business</td>\n      <td>Office Supplies</td>\n      <td>Pens &amp; Art Supplies</td>\n      <td>Newell 309</td>\n      <td>Wrap Bag</td>\n      <td>2/15/2011</td>\n      <td>Erin</td>\n      <td>Bradley Talbott</td>\n      <td>Type - T</td>\n      <td>NaN</td>\n    </tr>\n    <tr>\n      <th>8397</th>\n      <td>7961</td>\n      <td>56900</td>\n      <td>11/26/2011</td>\n      <td>Not Specified</td>\n      <td>16</td>\n      <td>54.32</td>\n      <td>0.09</td>\n      <td>Regular Air</td>\n      <td>16.11</td>\n      <td>3.41</td>\n      <td>...</td>\n      <td>Small Business</td>\n      <td>Office Supplies</td>\n      <td>Rubber Bands</td>\n      <td>Advantus SlideClip Paper Clips</td>\n      <td>Wrap Bag</td>\n      <td>11/28/2011</td>\n      <td>Erin</td>\n      <td>Bradley Talbott</td>\n      <td>Type - T</td>\n      <td>NaN</td>\n    </tr>\n    <tr>\n      <th>8398</th>\n      <td>7974</td>\n      <td>57056</td>\n      <td>11/8/2012</td>\n      <td>Low</td>\n      <td>29</td>\n      <td>2185.61</td>\n      <td>0.01</td>\n      <td>Delivery Truck</td>\n      <td>-2897.25</td>\n      <td>70.89</td>\n      <td>...</td>\n      <td>Corporate</td>\n      <td>Furniture</td>\n      <td>Tables</td>\n      <td>KI Conference Tables</td>\n      <td>Jumbo Box</td>\n      <td>11/15/2012</td>\n      <td>Erin</td>\n      <td>Bradley Talbott</td>\n      <td>Type - T</td>\n      <td>NaN</td>\n    </tr>\n  </tbody>\n</table>\n<p>8399 rows × 24 columns</p>\n</div>"
     },
     "metadata": {},
     "execution_count": 33
    }
   ],
   "source": [
    "# Merge the previous df and returns df on \"ORDER_ID\" so we can see the Order (Return) Status  \n",
    "final_merge = pd.merge(merged2, returns_df, on=\"ORDER_ID\", how=\"outer\")\n",
    "final_merge"
   ]
  },
  {
   "cell_type": "code",
   "execution_count": 37,
   "metadata": {},
   "outputs": [],
   "source": [
    "# Save the data cleaned for analysis\n",
    "output_data_exc = \"output/data_cleaned.xlsx\"\n",
    "output_data_csv = \"output/data_cleaned.csv\"\n",
    "\n",
    "final_merge.to_csv(output_data_csv, index = True)\n",
    "final_merge.to_excel(output_data_exc, index = True)"
   ]
  }
 ]
}